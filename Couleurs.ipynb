{
 "cells": [
  {
   "cell_type": "code",
   "execution_count": 40,
   "id": "0f90ace5",
   "metadata": {},
   "outputs": [],
   "source": [
    "import numpy as np\n",
    "from PIL import Image\n",
    "import matplotlib.pyplot as plt"
   ]
  },
  {
   "cell_type": "code",
   "execution_count": 41,
   "id": "a48d26b3",
   "metadata": {},
   "outputs": [],
   "source": [
    "image = Image.open(\"ville.png\")\n",
    "data = np.asarray(image)\n",
    "data_new = []\n",
    "for i in range(len(data)):\n",
    "    r = []\n",
    "    for j in range(len(data[0])):\n",
    "        col = (data[i][j][0], data[i][j][1], data[i][j][2])\n",
    "        r.append(col)\n",
    "    data_new.append(r)"
   ]
  },
  {
   "cell_type": "code",
   "execution_count": 42,
   "id": "39eb0ac9",
   "metadata": {},
   "outputs": [],
   "source": [
    "couleurs = [(0, 0, 0), (87, 209, 41), (192, 219, 0), (179, 93, 173), (226, 111, 120), (5, 235, 235), (235, 62, 5), (184, 143, 104), (0, 0, 0), (59, 5, 235), (168, 5, 235), (88, 209, 40), (175, 59, 196), (219, 133, 95), (105, 211, 34), (51, 39, 235), (71, 14, 229), (235, 64, 10), (205, 172, 1), (102, 210, 35), (100, 210, 36), (99, 210, 36), (192, 218, 0), (205, 178, 45), (183, 135, 115), (17, 225, 230), (218, 137, 91), (146, 5, 235), (214, 150, 75), (142, 223, 61), (136, 129, 98), (4, 199, 199), (17, 19, 0), (199, 101, 150), (195, 209, 11), (39, 45, 0), (28, 217, 212), (210, 161, 63), (171, 29, 208), (72, 26, 212), (197, 201, 0), (69, 79, 0), (108, 211, 32), (157, 216, 13), (104, 119, 0), (46, 4, 186), (179, 97, 168), (194, 212, 0), (67, 145, 235), (177, 195, 26), (152, 152, 158), (41, 81, 235), (11, 230, 233), (218, 126, 3), (36, 42, 0), (222, 112, 3), (33, 2, 134), (225, 113, 118), (192, 217, 0), (205, 174, 1), (155, 222, 44)]"
   ]
  },
  {
   "cell_type": "code",
   "execution_count": 43,
   "id": "aba46bf7",
   "metadata": {},
   "outputs": [],
   "source": [
    "def distanceCouleurs(c1, c2):\n",
    "    (r1, g1, b1) = c1\n",
    "    (r2, g2, b2) = c2\n",
    "    return np.sqrt((r1 - r2)**2 + (g1 - g2)**2 + (b1 - b2)**2)"
   ]
  },
  {
   "cell_type": "code",
   "execution_count": 44,
   "id": "eb699b40",
   "metadata": {},
   "outputs": [],
   "source": [
    "couleurs_vraies = [(0, 0, 0), (88, 209, 43), (226, 112, 121), (235, 64, 7), (7, 235, 235), (168, 7, 235), (61, 7, 235), (255, 255, 255) ,(192, 219, 1)]\n",
    "\n",
    "dict_c_vraies = {(0, 0, 0) : 0, (88, 209, 43):1, (226, 112, 121):2, (235, 64, 7):3, (7, 235, 235):4, (168, 7, 235):5, (61, 7, 235):6, (255, 255, 255):7 ,(192, 219, 1):8}\n"
   ]
  },
  {
   "cell_type": "code",
   "execution_count": 45,
   "id": "8c720e29",
   "metadata": {},
   "outputs": [],
   "source": [
    "def calculeDistances(c):\n",
    "    l = []\n",
    "    for cr in couleurs_vraies:\n",
    "        l.append(distanceCouleurs(c, cr))\n",
    "    return l"
   ]
  },
  {
   "cell_type": "code",
   "execution_count": 46,
   "id": "98eb9e18",
   "metadata": {},
   "outputs": [],
   "source": [
    "def bonneCouleur(c):\n",
    "    d = calculeDistances(c)\n",
    "    n = np.argmin(d)\n",
    "    return couleurs_vraies[n]"
   ]
  },
  {
   "cell_type": "code",
   "execution_count": 47,
   "id": "5cc1ea6f",
   "metadata": {},
   "outputs": [],
   "source": [
    "nouvelle_map = []\n",
    "for i in range(len(data_new)):\n",
    "    r = []\n",
    "    for j in range(len(data_new[0])):\n",
    "        col = bonneCouleur(data_new[i][j])\n",
    "        r.append(col)\n",
    "    nouvelle_map.append(r)"
   ]
  },
  {
   "cell_type": "code",
   "execution_count": 52,
   "id": "c4f95c4b",
   "metadata": {},
   "outputs": [
    {
     "ename": "KeyError",
     "evalue": "1",
     "output_type": "error",
     "traceback": [
      "\u001b[0;31m---------------------------------------------------------------------------\u001b[0m",
      "\u001b[0;31mKeyError\u001b[0m                                  Traceback (most recent call last)",
      "Cell \u001b[0;32mIn[52], line 5\u001b[0m\n\u001b[1;32m      3\u001b[0m r \u001b[38;5;241m=\u001b[39m []\n\u001b[1;32m      4\u001b[0m \u001b[38;5;28;01mfor\u001b[39;00m j \u001b[38;5;129;01min\u001b[39;00m \u001b[38;5;28mrange\u001b[39m(\u001b[38;5;28mlen\u001b[39m(nouvelle_map[\u001b[38;5;241m0\u001b[39m])):\n\u001b[0;32m----> 5\u001b[0m     r\u001b[38;5;241m.\u001b[39mappend(\u001b[43mdict_c_vraies\u001b[49m\u001b[43m[\u001b[49m\u001b[43mnouvelle_map\u001b[49m\u001b[43m[\u001b[49m\u001b[43mi\u001b[49m\u001b[43m]\u001b[49m\u001b[43m[\u001b[49m\u001b[43mj\u001b[49m\u001b[43m]\u001b[49m\u001b[43m]\u001b[49m )\n\u001b[1;32m      6\u001b[0m nouvelle_map\u001b[38;5;241m.\u001b[39mappend(r)\n",
      "\u001b[0;31mKeyError\u001b[0m: 1"
     ]
    }
   ],
   "source": [
    "map_finale = []\n",
    "for i in range(len(nouvelle_map)):\n",
    "    r = []\n",
    "    for j in range(len(nouvelle_map[0])):\n",
    "        r.append(dict_c_vraies[nouvelle_map[i][j]] )\n",
    "    nouvelle_map.append(r)"
   ]
  },
  {
   "cell_type": "code",
   "execution_count": 50,
   "id": "f7761bac",
   "metadata": {},
   "outputs": [
    {
     "name": "stdout",
     "output_type": "stream",
     "text": [
      "[]\n"
     ]
    }
   ],
   "source": [
    "print(map_finale)"
   ]
  },
  {
   "cell_type": "code",
   "execution_count": null,
   "id": "141d0d41",
   "metadata": {},
   "outputs": [],
   "source": []
  },
  {
   "cell_type": "code",
   "execution_count": null,
   "id": "a7527c79",
   "metadata": {},
   "outputs": [],
   "source": []
  }
 ],
 "metadata": {
  "kernelspec": {
   "display_name": "Python 3 (ipykernel)",
   "language": "python",
   "name": "python3"
  },
  "language_info": {
   "codemirror_mode": {
    "name": "ipython",
    "version": 3
   },
   "file_extension": ".py",
   "mimetype": "text/x-python",
   "name": "python",
   "nbconvert_exporter": "python",
   "pygments_lexer": "ipython3",
   "version": "3.11.2"
  }
 },
 "nbformat": 4,
 "nbformat_minor": 5
}

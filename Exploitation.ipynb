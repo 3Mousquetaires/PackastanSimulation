{
 "cells": [
  {
   "attachments": {},
   "cell_type": "markdown",
   "metadata": {},
   "source": [
    "# Simulation et optimisation du placement d'une ville : Traîtement des résultats"
   ]
  },
  {
   "attachments": {},
   "cell_type": "markdown",
   "metadata": {},
   "source": [
    "### Importation des données et des librairies"
   ]
  },
  {
   "cell_type": "code",
   "execution_count": null,
   "metadata": {},
   "outputs": [],
   "source": [
    "import numpy as np\n",
    "import matplotlib.pyplot as plt\n",
    "import random\n",
    "import math\n",
    "import json\n",
    "\n"
   ]
  },
  {
   "attachments": {},
   "cell_type": "markdown",
   "metadata": {},
   "source": [
    "## Affichage"
   ]
  },
  {
   "cell_type": "code",
   "execution_count": null,
   "metadata": {},
   "outputs": [],
   "source": [
    "type_to_c = {0:'#ed1c24', 1:'#6ABE30', 2:'#5B6EE1',\n",
    "                3:'#5FCDE4', 4:'#76428A', 5:'#FBF236', \n",
    "                6:'#DF7126', 7:'#D77BBA', 8:'#544406',\n",
    "                9:'#424258'} "
   ]
  },
  {
   "cell_type": "code",
   "execution_count": null,
   "metadata": {},
   "outputs": [],
   "source": [
    "\n",
    "\n",
    "def affichage(map):\n",
    "        limE = max([x[0] for x in coos_list])\n",
    "        limW = min(x[0] for x in coos_list)\n",
    "        limN = max([y[1] for y in coos_list])\n",
    "        limS = min([y[1] for y in coos_list])\n",
    "        color_list = [ type_to_c[bat.type] for bat in batlist ]\n",
    "        size_list = [ (1/10000) * bat.area for bat in batlist ]\n",
    "        plt.style.use('dark_background')\n",
    "        fig, axes = plt.subplots()\n",
    "        ax_ville = axes[0]\n",
    "        ax_ville.set_box_aspect(1)\n",
    "        dico = {0:\"Commerces\", 1:\"habitat\", 2:\"santé\", 3:\"securité\",\n",
    "                4:\"emploi\", 5:\"moralité\", 6:\"fete\", 7:\"physique\",\n",
    "                8:\"gestion\", 9:\"routes\"}\n",
    "        ax_ville.legend(loc=\"center left\", bbox_transform=fig.transFigure)\n",
    "        box = ax_ville.get_position()\n",
    "        box = ax_ville.get_position()\n",
    "        ax_ville.set_position([box.x0, box.y0 + box.height * 0.1,box.width, box.height * 0.9])\n",
    "        bbox = (limW, limE, limS, limN)\n",
    "        ax_ville.scatter(map.coos_listx, map.coos_listy, c= map.color_list, s= map.size_list)\n",
    "        for t in dico:\n",
    "            ax_ville.scatter([], [], c=type_to_c[t], label=dico[t])\n",
    "        ax_ville.legend(loc=\"upper center\", bbox_to_anchor=(0.5, -0.05), fancybox=True, ncol=4)\n",
    "        "
   ]
  },
  {
   "cell_type": "markdown",
   "metadata": {},
   "source": []
  }
 ],
 "metadata": {
  "kernelspec": {
   "display_name": "Python 3",
   "language": "python",
   "name": "python3"
  },
  "language_info": {
   "name": "python",
   "version": "3.10.8 (main, Nov 15 2022, 05:25:54) [Clang 14.0.0 (clang-1400.0.29.202)]"
  },
  "orig_nbformat": 4,
  "vscode": {
   "interpreter": {
    "hash": "aee8b7b246df8f9039afb4144a1f6fd8d2ca17a180786b69acc140d282b71a49"
   }
  }
 },
 "nbformat": 4,
 "nbformat_minor": 2
}
